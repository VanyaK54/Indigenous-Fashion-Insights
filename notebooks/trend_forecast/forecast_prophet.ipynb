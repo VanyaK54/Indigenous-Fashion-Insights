{
 "cells": [
  {
   "cell_type": "code",
   "execution_count": null,
   "id": "c50b110f",
   "metadata": {
    "vscode": {
     "languageId": "plaintext"
    }
   },
   "outputs": [],
   "source": [
    "```bash\n",
    "\n",
    "pip install prophet\n",
    "\n",
    "```\n",
    "import pandas as pd\n",
    "from prophet import Prophet\n",
    "\n",
    "# Load your dataset\n",
    "df = pd.read_csv(\"data/raw/sales_data.csv\")\n",
    "df['date'] = pd.to_datetime(df['date'])\n",
    "\n",
    "forecasts = []\n",
    "\n",
    "for pattern in df['pattern_name'].unique():\n",
    "    temp = df[df['pattern_name'] == pattern].groupby('date')['units_sold'].sum().reset_index()\n",
    "    temp.columns = ['ds', 'y']\n",
    "\n",
    "    model = Prophet()\n",
    "    model.fit(temp)\n",
    "\n",
    "    future = model.make_future_dataframe(periods=30)\n",
    "    forecast = model.predict(future)\n",
    "\n",
    "    forecast['pattern_name'] = pattern\n",
    "    forecasts.append(forecast[['ds', 'yhat', 'pattern_name']])\n",
    "\n",
    "# Combine and export\n",
    "final_forecast = pd.concat(forecasts)\n",
    "final_forecast.to_csv(\"data/raw/forecast_data.csv\", index=False)\n",
    "\n"
   ]
  }
 ],
 "metadata": {
  "language_info": {
   "name": "python"
  }
 },
 "nbformat": 4,
 "nbformat_minor": 5
}
