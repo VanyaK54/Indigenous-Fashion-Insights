{
 "cells": [
  {
   "cell_type": "code",
   "execution_count": null,
   "id": "cb684f86",
   "metadata": {
    "vscode": {
     "languageId": "plaintext"
    }
   },
   "outputs": [],
   "source": [
    "# 📦 Load libraries\n",
    "import pandas as pd\n",
    "import matplotlib.pyplot as plt\n",
    "import seaborn as sns\n",
    "\n",
    "# 📁 Load processed data\n",
    "summary_df = pd.read_csv('../data/processed/sales_summary_by_pattern_region.csv')\n",
    "trend_df = pd.read_csv('../data/processed/daily_units_by_pattern.csv')\n",
    "popularity_df = pd.read_csv('../data/processed/pattern_popularity.csv')\n",
    "\n",
    "# 🧹 Data Quality Check\n",
    "print(summary_df.info())\n",
    "print(summary_df.describe())\n",
    "\n",
    "# 📊 Pattern Popularity\n",
    "sns.barplot(data=popularity_df, x='total_units_sold', y='pattern_name', palette='viridis')\n",
    "plt.title('Total Units Sold by Pattern')\n",
    "plt.xlabel('Units Sold')\n",
    "plt.ylabel('Pattern')\n",
    "plt.tight_layout()\n",
    "plt.show()\n",
    "\n",
    "# 📈 Sales Trend Over Time\n",
    "plt.figure(figsize=(10,5))\n",
    "sns.lineplot(data=trend_df, x='date', y='daily_units', hue='pattern_name')\n",
    "plt.title('Daily Sales Trend by Pattern')\n",
    "plt.xlabel('Date')\n",
    "plt.ylabel('Units Sold')\n",
    "plt.xticks(rotation=45)\n",
    "plt.tight_layout()\n",
    "plt.show()\n",
    "\n",
    "# 🔍 Correlation Heatmap (example)\n",
    "corr = summary_df[['total_units', 'total_revenue']].corr()\n",
    "sns.heatmap(corr, annot=True, cmap='coolwarm')\n",
    "plt.title('Correlation Matrix: Sales & Revenue')\n",
    "plt.show()\n"
   ]
  }
 ],
 "metadata": {
  "language_info": {
   "name": "python"
  }
 },
 "nbformat": 4,
 "nbformat_minor": 5
}
